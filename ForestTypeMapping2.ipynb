{
 "cells": [
  {
   "cell_type": "markdown",
   "metadata": {},
   "source": [
    "# Kevin Mochi\n",
    "# kevinmochi@outlook.com\n",
    "# Modeling"
   ]
  },
  {
   "cell_type": "code",
   "execution_count": 4,
   "metadata": {},
   "outputs": [],
   "source": [
    "import ast\n",
    "import numpy as np\n",
    "import warnings\n",
    "from sklearn.ensemble import BaggingClassifier\n",
    "from sklearn.ensemble import GradientBoostingClassifier\n",
    "from sklearn.metrics import accuracy_score\n",
    "from sklearn.model_selection import cross_val_score\n",
    "from sklearn.model_selection import train_test_split\n",
    "from sklearn.tree import DecisionTreeClassifier\n",
    "\n",
    "def load_data(infile):\n",
    "    # t = input limitation if desired\n",
    "    f = open(infile, 'r')\n",
    "    data = {}\n",
    "    full = []\n",
    "    attrib = []\n",
    "    classes = []\n",
    "    for i, line in enumerate(f.readlines()):\n",
    "        if i > 0:\n",
    "            line = line.replace('\\n', '')\n",
    "            line = line.split(',')\n",
    "           #print('Data: ', i, line[1:])\n",
    "           #print('Class: ', i, line[0])\n",
    "            full.append(line)\n",
    "            attrib.append([float(x) for x in line[1:]])\n",
    "            classes.append(line[0])\n",
    "    data['full'] = np.array(full)\n",
    "    data['attrib'] = np.array(attrib)\n",
    "    data['classes'] = np.array(classes)\n",
    "    return data\n",
    "\n",
    "# data load section\n",
    "infile = 'forest_data.csv'\n",
    "data = load_data(infile)\n",
    "seed = 208"
   ]
  },
  {
   "cell_type": "code",
   "execution_count": 5,
   "metadata": {},
   "outputs": [],
   "source": [
    "def Example_train_test_split(data, pct, seed):\n",
    "    X_train, X_test, y_train, y_test = train_test_split(data['attrib'],\n",
    "                                                        data['classes'],\n",
    "                                                        test_size=pct,\n",
    "                                                        random_state=seed)\n",
    "    xydata = {}\n",
    "    xydata['X_train'] = X_train\n",
    "    xydata['X_test'] = X_test\n",
    "    xydata['y_train'] = y_train\n",
    "    xydata['y_test'] = y_test\n",
    "    return xydata"
   ]
  },
  {
   "cell_type": "code",
   "execution_count": null,
   "metadata": {},
   "outputs": [],
   "source": [
    "pct = .25\n",
    "xydata = Example_train_test_split(data, pct, seed)"
   ]
  },
  {
   "cell_type": "code",
   "execution_count": 15,
   "metadata": {},
   "outputs": [
    {
     "data": {
      "text/plain": [
       "{'X_train': array([[ 51.  ,  39.  ,  60.  , ..., -19.02,  -2.19,  -4.68],\n",
       "        [ 82.  ,  29.  ,  54.  , ..., -24.09,  -1.2 ,  -3.95],\n",
       "        [ 57.  ,  31.  ,  52.  , ..., -16.54,  -0.97,  -3.23],\n",
       "        ...,\n",
       "        [ 34.  ,  32.  ,  51.  , ..., -18.26,  -2.42,  -4.67],\n",
       "        [ 49.  ,  25.  ,  50.  , ..., -27.16,  -2.84,  -5.1 ],\n",
       "        [ 71.  ,  65.  ,  85.  , ..., -17.51,  -1.09,  -3.32]]),\n",
       " 'X_test': array([[ 35.  ,  32.  ,  53.  , ..., -12.39,  -1.95,  -3.89],\n",
       "        [ 71.  ,  29.  ,  55.  , ..., -12.95,  -0.73,  -3.06],\n",
       "        [ 61.  ,  29.  ,  54.  , ..., -23.29,  -1.65,  -4.45],\n",
       "        ...,\n",
       "        [ 52.  ,  44.  ,  73.  , ..., -18.75,  -2.08,  -4.75],\n",
       "        [ 54.  ,  52.  ,  71.  , ..., -18.89,  -1.74,  -4.44],\n",
       "        [ 62.  ,  54.  ,  79.  , ..., -23.07,  -3.51,  -6.63]]),\n",
       " 'y_train': array(['d ', 'h ', 's ', 's ', 's ', 's ', 'd ', 's ', 'd ', 's ', 'o ',\n",
       "        's ', 's ', 'h ', 'd ', 's ', 'h ', 's ', 's ', 'd ', 's ', 's ',\n",
       "        'o ', 's ', 'o ', 'd ', 's ', 's ', 'h ', 's ', 's ', 'd ', 's ',\n",
       "        'd ', 'h ', 's ', 's ', 'h ', 'd ', 'o ', 'd ', 'h ', 'o ', 's ',\n",
       "        'o ', 's ', 'd ', 's ', 'o ', 's ', 's ', 'o ', 'h ', 's ', 'h ',\n",
       "        's ', 's ', 's ', 's ', 's ', 'd ', 'o ', 'o ', 'h ', 'o ', 'o ',\n",
       "        'h ', 's ', 'h ', 'h ', 'd ', 'o ', 's ', 's ', 'd ', 'd ', 'd ',\n",
       "        's ', 'h ', 'd ', 's ', 's ', 's ', 's ', 's ', 's ', 's ', 's ',\n",
       "        'h ', 'h ', 'd ', 's ', 'h ', 'd ', 'd ', 'o ', 'h ', 'd ', 's ',\n",
       "        'h ', 's ', 'o ', 'd ', 'h ', 'h ', 'o ', 's ', 's ', 'd ', 'o ',\n",
       "        's ', 'd ', 's ', 'd ', 's ', 'o ', 'o ', 'd ', 's ', 's ', 's ',\n",
       "        'h ', 's ', 'd ', 'o ', 'd ', 'h ', 'h ', 'h ', 's ', 's ', 's ',\n",
       "        's ', 'o ', 'd ', 's ', 'd ', 'h ', 's ', 'h ', 's ', 's ', 's ',\n",
       "        's ', 'd ', 's ', 'd ', 'd ', 'h ', 's ', 'h ', 's ', 's ', 'h ',\n",
       "        'o ', 'd ', 'o ', 's ', 's ', 'd ', 'd ', 'h ', 's ', 'd ', 'h ',\n",
       "        'h ', 'd ', 's ', 's ', 'o ', 'd ', 'd ', 'd ', 'd ', 'd ', 'd ',\n",
       "        'd ', 'd ', 's ', 'd ', 's ', 's ', 'd ', 'o ', 'h ', 'h ', 'd ',\n",
       "        'd ', 's ', 'd ', 'd ', 'd ', 'd ', 'd ', 's ', 'h ', 's ', 'h ',\n",
       "        'd ', 'd ', 'd ', 's ', 's ', 's ', 'h ', 'h ', 'd ', 'o ', 's ',\n",
       "        'h ', 's ', 'o ', 'h ', 'o ', 'o ', 's ', 's ', 'd ', 'd ', 'h ',\n",
       "        's ', 'h ', 'h ', 'o ', 'd ', 's ', 's ', 'd ', 's ', 'o ', 'd ',\n",
       "        's ', 's ', 'o ', 'o ', 'd ', 'd ', 's ', 'h ', 's ', 'd ', 's ',\n",
       "        'h ', 'h ', 'd ', 's ', 'd ', 's ', 'd ', 'o ', 's ', 's ', 'o ',\n",
       "        'd ', 'd ', 's ', 'h ', 'o ', 'h ', 'd ', 'd ', 'h ', 's ', 's ',\n",
       "        'd ', 'd ', 's ', 'd ', 'o ', 'd ', 'd ', 'd ', 's ', 's ', 'd ',\n",
       "        's ', 's ', 'h ', 's ', 's ', 'o ', 'd ', 's ', 's ', 'h ', 'o ',\n",
       "        'h ', 'd ', 'o ', 'd ', 'd ', 's ', 's ', 'd ', 'h ', 'd ', 'o ',\n",
       "        'o ', 's ', 's ', 's ', 'o ', 's ', 'd ', 's ', 'd ', 's ', 'd ',\n",
       "        'd ', 'd ', 'd ', 's ', 's ', 'h ', 'o ', 's ', 'd ', 's ', 'd ',\n",
       "        's ', 's ', 'o ', 'o ', 'h ', 's ', 's ', 'd ', 'd ', 'o ', 'o ',\n",
       "        'o ', 'd ', 's ', 's ', 'h ', 'o ', 's ', 'o ', 'd ', 'd ', 'd ',\n",
       "        'd ', 'o ', 's ', 's ', 'd ', 'd ', 's ', 'h ', 'h ', 's ', 'd ',\n",
       "        's ', 's ', 's ', 's ', 'o ', 's ', 'd ', 'o ', 's ', 'h ', 's ',\n",
       "        'h ', 's ', 's ', 's ', 'o ', 'd ', 's ', 'h ', 'h ', 'd ', 's ',\n",
       "        'h ', 's ', 's ', 'd ', 's ', 's ', 'o ', 'd ', 'o ', 'd ', 's ',\n",
       "        'h ', 'd ', 'd ', 'd ', 'd ', 's ', 'o '], dtype='<U2'),\n",
       " 'y_test': array(['d ', 'h ', 's ', 'd ', 'h ', 'h ', 'd ', 's ', 'o ', 'd ', 'o ',\n",
       "        'h ', 's ', 'h ', 'd ', 's ', 'd ', 'd ', 'o ', 's ', 'o ', 'h ',\n",
       "        'o ', 's ', 's ', 's ', 's ', 'd ', 'h ', 'o ', 's ', 'd ', 's ',\n",
       "        'h ', 's ', 'd ', 's ', 'd ', 's ', 'o ', 's ', 's ', 'd ', 's ',\n",
       "        'o ', 's ', 'o ', 'o ', 'd ', 'd ', 'd ', 's ', 'h ', 's ', 'd ',\n",
       "        'h ', 's ', 's ', 'd ', 'h ', 'o ', 'h ', 'o ', 'd ', 'h ', 's ',\n",
       "        'o ', 'd ', 's ', 'o ', 's ', 's ', 'd ', 'o ', 's ', 'd ', 'd ',\n",
       "        'h ', 'd ', 'd ', 's ', 'h ', 'h ', 's ', 'd ', 'h ', 'h ', 'd ',\n",
       "        'o ', 'd ', 'd ', 'd ', 's ', 'd ', 'o ', 'd ', 'd ', 's ', 'd ',\n",
       "        'd ', 'o ', 'd ', 'o ', 's ', 's ', 'o ', 's ', 's ', 'o ', 'd ',\n",
       "        's ', 'o ', 's ', 's ', 'd ', 'd ', 's ', 'h ', 'd ', 'h ', 'o ',\n",
       "        'o ', 's ', 's ', 'h ', 'd ', 'o ', 'd ', 'd ', 'd ', 'd '],\n",
       "       dtype='<U2')}"
      ]
     },
     "execution_count": 15,
     "metadata": {},
     "output_type": "execute_result"
    }
   ],
   "source": [
    "xydata"
   ]
  },
  {
   "cell_type": "code",
   "execution_count": 1,
   "metadata": {},
   "outputs": [],
   "source": [
    "# Task 2 - Random Forest"
   ]
  },
  {
   "cell_type": "code",
   "execution_count": 9,
   "metadata": {},
   "outputs": [],
   "source": [
    "import ast\n",
    "import numpy as np\n",
    "import warnings\n",
    "from sklearn.ensemble import BaggingClassifier\n",
    "from sklearn.ensemble import RandomForestClassifier\n",
    "from sklearn.model_selection import cross_val_score\n",
    "from sklearn.model_selection import train_test_split"
   ]
  },
  {
   "cell_type": "code",
   "execution_count": 10,
   "metadata": {},
   "outputs": [],
   "source": [
    "# Random Forest\n",
    "def Example_random_forest(xydata, seed=208, depth=25):\n",
    "    # Suppress package change warnings\n",
    "    with warnings.catch_warnings():\n",
    "        warnings.simplefilter(\"ignore\")\n",
    "        clf = RandomForestClassifier(max_depth=depth, random_state=seed)\n",
    "\n",
    "        # Class Weight Implementation:\n",
    "        # cw = {1: .1, 2: .1, 3: .1, 4: .3, 5: .1, 6: .5, 7: .4, 8: .1, 9: .1}\n",
    "        # cw = 'balanced'  # default\n",
    "        # clf = RandomForestClassifier(max_depth=depth, random_state=seed, class_weight=cw)\n",
    "\n",
    "        clf.fit(xydata['X_train'], xydata['y_train'])\n",
    "        score = clf.score(xydata['X_test'], xydata['y_test'])\n",
    "        \n",
    "        feature_importances = clf.feature_importances_\n",
    "        result = {}\n",
    "        result['score'] = score\n",
    "        result['importance'] = feature_importances\n",
    "        return result"
   ]
  },
  {
   "cell_type": "code",
   "execution_count": 11,
   "metadata": {},
   "outputs": [
    {
     "name": "stdout",
     "output_type": "stream",
     "text": [
      "\n",
      "-----Random Forest Classification-----\n",
      "SCORE:  0.8931297709923665\n",
      "IMPORTANCE:  [0.02727185 0.03056933 0.06409157 0.05527341 0.12374512 0.04977714\n",
      " 0.02736129 0.05779825 0.03257203 0.10150956 0.06944084 0.05318945\n",
      " 0.06308308 0.06256394 0.01385378 0.0106069  0.06491038 0.02132081\n",
      " 0.01176926 0.00837111 0.01166177 0.0051243  0.00993866 0.00568629\n",
      " 0.00915534 0.00512009 0.00423445]\n"
     ]
    }
   ],
   "source": [
    "result = Example_random_forest(xydata, seed, None)\n",
    "print('\\n-----Random Forest Classification-----')\n",
    "print('SCORE: ', result['score'])\n",
    "print('IMPORTANCE: ', result['importance'])"
   ]
  },
  {
   "cell_type": "code",
   "execution_count": 12,
   "metadata": {},
   "outputs": [],
   "source": [
    "# Task 3 - XG Boost"
   ]
  },
  {
   "cell_type": "code",
   "execution_count": 16,
   "metadata": {},
   "outputs": [],
   "source": [
    "from sklearn.metrics import accuracy_score\n",
    "from xgboost import XGBClassifier"
   ]
  },
  {
   "cell_type": "code",
   "execution_count": 38,
   "metadata": {},
   "outputs": [],
   "source": [
    "def Example_xg_boost(xydata):\n",
    "    model = XGBClassifier()\n",
    "    model.fit(xydata['X_train'], xydata['y_train'])"
   ]
  },
  {
   "cell_type": "code",
   "execution_count": 39,
   "metadata": {},
   "outputs": [
    {
     "data": {
      "text/plain": [
       "XGBClassifier(base_score=0.5, booster='gbtree', colsample_bylevel=1,\n",
       "       colsample_bytree=1, gamma=0, learning_rate=0.1, max_delta_step=0,\n",
       "       max_depth=3, min_child_weight=1, missing=None, n_estimators=100,\n",
       "       n_jobs=1, nthread=None, objective='multi:softprob', random_state=0,\n",
       "       reg_alpha=0, reg_lambda=1, scale_pos_weight=1, seed=None,\n",
       "       silent=True, subsample=1)"
      ]
     },
     "execution_count": 39,
     "metadata": {},
     "output_type": "execute_result"
    }
   ],
   "source": [
    "model"
   ]
  },
  {
   "cell_type": "code",
   "execution_count": 19,
   "metadata": {},
   "outputs": [
    {
     "data": {
      "text/plain": [
       "XGBClassifier(base_score=0.5, booster='gbtree', colsample_bylevel=1,\n",
       "       colsample_bytree=1, gamma=0, learning_rate=0.1, max_delta_step=0,\n",
       "       max_depth=3, min_child_weight=1, missing=None, n_estimators=100,\n",
       "       n_jobs=1, nthread=None, objective='multi:softprob', random_state=0,\n",
       "       reg_alpha=0, reg_lambda=1, scale_pos_weight=1, seed=None,\n",
       "       silent=True, subsample=1)"
      ]
     },
     "execution_count": 19,
     "metadata": {},
     "output_type": "execute_result"
    }
   ],
   "source": [
    "model = XGBClassifier()\n",
    "model.fit(xydata['X_train'], xydata['y_train'])"
   ]
  },
  {
   "cell_type": "code",
   "execution_count": 27,
   "metadata": {},
   "outputs": [],
   "source": [
    "# make predictions for test data\n",
    "warnings.simplefilter('ignore', DeprecationWarning)\n",
    "y_pred = model.predict(xydata['X_test'])\n",
    "predictions = [value for value in y_pred]"
   ]
  },
  {
   "cell_type": "code",
   "execution_count": 28,
   "metadata": {},
   "outputs": [
    {
     "data": {
      "text/plain": [
       "['d ', 'h ', 's ', 'd ', 'h ', 'h ', 'd ', 's ', 'o ', 'd ']"
      ]
     },
     "execution_count": 28,
     "metadata": {},
     "output_type": "execute_result"
    }
   ],
   "source": [
    "predictions[:10]"
   ]
  },
  {
   "cell_type": "code",
   "execution_count": 36,
   "metadata": {},
   "outputs": [
    {
     "data": {
      "text/plain": [
       "0.8931297709923665"
      ]
     },
     "execution_count": 36,
     "metadata": {},
     "output_type": "execute_result"
    }
   ],
   "source": [
    "# evaluate\n",
    "accuracy = accuracy_score(xydata['y_test'], predictions)\n",
    "accuracy"
   ]
  },
  {
   "cell_type": "code",
   "execution_count": 41,
   "metadata": {},
   "outputs": [
    {
     "name": "stdout",
     "output_type": "stream",
     "text": [
      "\n",
      "-----XG Boost Classification-----\n",
      "SCORE:  None\n"
     ]
    }
   ],
   "source": [
    "# xg boost\n",
    "result = Example_xg_boost(xydata)\n",
    "print('\\n-----XG Boost Classification-----')\n",
    "print('SCORE: ', result)"
   ]
  },
  {
   "cell_type": "code",
   "execution_count": 42,
   "metadata": {},
   "outputs": [],
   "source": [
    "def Example_xg_boost(xydata):\n",
    "    model = XGBClassifier()\n",
    "    model.fit(xydata['X_train'], xydata['y_train'])\n",
    "\n",
    "    # make predictions for test data\n",
    "    warnings.simplefilter('ignore', DeprecationWarning)\n",
    "    y_pred = model.predict(xydata['X_test'])\n",
    "    predictions = [value for value in y_pred]\n",
    "    \n",
    "    # evaluate\n",
    "    accuracy = accuracy_score(xydata['y_test'], predictions)\n",
    "    return accuracy"
   ]
  },
  {
   "cell_type": "code",
   "execution_count": 43,
   "metadata": {},
   "outputs": [
    {
     "name": "stdout",
     "output_type": "stream",
     "text": [
      "\n",
      "-----XG Boost Classification-----\n",
      "SCORE:  0.8931297709923665\n"
     ]
    }
   ],
   "source": [
    "# xg boost\n",
    "result = Example_xg_boost(xydata)\n",
    "print('\\n-----XG Boost Classification-----')\n",
    "print('SCORE: ', result)"
   ]
  },
  {
   "cell_type": "code",
   "execution_count": null,
   "metadata": {},
   "outputs": [],
   "source": []
  }
 ],
 "metadata": {
  "kernelspec": {
   "display_name": "Python 3",
   "language": "python",
   "name": "python3"
  },
  "language_info": {
   "codemirror_mode": {
    "name": "ipython",
    "version": 3
   },
   "file_extension": ".py",
   "mimetype": "text/x-python",
   "name": "python",
   "nbconvert_exporter": "python",
   "pygments_lexer": "ipython3",
   "version": "3.7.1"
  }
 },
 "nbformat": 4,
 "nbformat_minor": 2
}
