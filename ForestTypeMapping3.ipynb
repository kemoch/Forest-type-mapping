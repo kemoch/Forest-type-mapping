{
 "cells": [
  {
   "cell_type": "markdown",
   "metadata": {},
   "source": [
    "# Kevin Mochi\n",
    "# kevinmochi@outlook.com\n",
    "# Modeling"
   ]
  },
  {
   "cell_type": "code",
   "execution_count": null,
   "metadata": {},
   "outputs": [],
   "source": [
    "# Task 1 - load & Train-test slit"
   ]
  },
  {
   "cell_type": "code",
   "execution_count": 1,
   "metadata": {},
   "outputs": [],
   "source": [
    "import ast\n",
    "import numpy as np\n",
    "import warnings\n",
    "from sklearn.ensemble import AdaBoostClassifier\n",
    "from sklearn.ensemble import BaggingClassifier\n",
    "from sklearn.ensemble import GradientBoostingClassifier\n",
    "from sklearn.metrics import accuracy_score\n",
    "from sklearn.model_selection import cross_val_score\n",
    "from sklearn.model_selection import train_test_split\n",
    "from sklearn.tree import DecisionTreeClassifier"
   ]
  },
  {
   "cell_type": "code",
   "execution_count": 2,
   "metadata": {},
   "outputs": [],
   "source": [
    "def load_data(infile):\n",
    "    # t = input limitation if desired\n",
    "    f = open(infile, 'r')\n",
    "    data = {}\n",
    "    full = []\n",
    "    attrib = []\n",
    "    classes = []\n",
    "    for i, line in enumerate(f.readlines()):\n",
    "        if i > 0:\n",
    "            line = line.replace('\\n', '')\n",
    "            line = line.split(',')\n",
    "           #print('Data: ', i, line[1:])\n",
    "           #print('Class: ', i, line[0])\n",
    "            full.append(line)\n",
    "            attrib.append([float(x) for x in line[1:]])\n",
    "            classes.append(line[0])\n",
    "    data['full'] = np.array(full)\n",
    "    data['attrib'] = np.array(attrib)\n",
    "    data['classes'] = np.array(classes)\n",
    "    return data"
   ]
  },
  {
   "cell_type": "code",
   "execution_count": 3,
   "metadata": {
    "scrolled": false
   },
   "outputs": [],
   "source": [
    "# data load section\n",
    "infile = 'forest_data.csv'\n",
    "data = load_data(infile)\n",
    "seed = 208"
   ]
  },
  {
   "cell_type": "code",
   "execution_count": 4,
   "metadata": {},
   "outputs": [
    {
     "data": {
      "text/plain": [
       "{'full': array([['d ', '67', '51', ..., '-22.56', '-5.53', '-8.11'],\n",
       "        ['s ', '67', '28', ..., '-22.2', '-3.41', '-6.57'],\n",
       "        ['s ', '63', '26', ..., '-20.89', '-3.96', '-6.85'],\n",
       "        ...,\n",
       "        ['h ', '79', '30', ..., '-23.32', '-2.09', '-4.13'],\n",
       "        ['h ', '69', '27', ..., '-10.04', '-0.74', '-2.88'],\n",
       "        ['h ', '80', '29', ..., '-20.91', '-0.9', '-3.7']], dtype='<U7'),\n",
       " 'attrib': array([[ 67.  ,  51.  ,  68.  , ..., -22.56,  -5.53,  -8.11],\n",
       "        [ 67.  ,  28.  ,  51.  , ..., -22.2 ,  -3.41,  -6.57],\n",
       "        [ 63.  ,  26.  ,  50.  , ..., -20.89,  -3.96,  -6.85],\n",
       "        ...,\n",
       "        [ 79.  ,  30.  ,  55.  , ..., -23.32,  -2.09,  -4.13],\n",
       "        [ 69.  ,  27.  ,  53.  , ..., -10.04,  -0.74,  -2.88],\n",
       "        [ 80.  ,  29.  ,  55.  , ..., -20.91,  -0.9 ,  -3.7 ]]),\n",
       " 'classes': array(['d ', 's ', 's ', 'd ', 's ', 'd ', 'h ', 'o ', 's ', 'd ', 's ',\n",
       "        'o ', 'd ', 's ', 'o ', 's ', 'o ', 'd ', 's ', 'o ', 'o ', 'd ',\n",
       "        'd ', 's ', 's ', 's ', 'd ', 'd ', 's ', 'd ', 's ', 'o ', 's ',\n",
       "        's ', 'd ', 'd ', 'd ', 'd ', 'h ', 'o ', 'd ', 's ', 'o ', 'o ',\n",
       "        's ', 'o ', 's ', 'd ', 'h ', 's ', 'o ', 'd ', 'h ', 'h ', 'd ',\n",
       "        's ', 'h ', 'o ', 's ', 's ', 's ', 's ', 's ', 's ', 's ', 's ',\n",
       "        'd ', 's ', 'd ', 's ', 's ', 'd ', 'o ', 's ', 'h ', 'h ', 's ',\n",
       "        's ', 's ', 's ', 'd ', 's ', 's ', 'h ', 'd ', 's ', 's ', 'o ',\n",
       "        'd ', 's ', 'o ', 'd ', 's ', 's ', 's ', 'd ', 'd ', 's ', 'd ',\n",
       "        'd ', 'h ', 'h ', 'd ', 's ', 's ', 's ', 'd ', 'o ', 'o ', 's ',\n",
       "        'o ', 'd ', 'd ', 's ', 'd ', 'o ', 'o ', 'd ', 's ', 'h ', 'd ',\n",
       "        's ', 'd ', 's ', 's ', 's ', 'd ', 'd ', 'd ', 'o ', 'd ', 'd ',\n",
       "        's ', 's ', 'd ', 's ', 'o ', 'd ', 'o ', 'd ', 'd ', 'd ', 's ',\n",
       "        'o ', 's ', 'd ', 'd ', 'o ', 's ', 'h ', 'h ', 'd ', 'o ', 'd ',\n",
       "        'o ', 'o ', 'o ', 'd ', 'h ', 'o ', 's ', 's ', 'd ', 's ', 's ',\n",
       "        's ', 'd ', 'd ', 's ', 's ', 's ', 'o ', 'd ', 's ', 's ', 'h ',\n",
       "        'd ', 's ', 'd ', 'd ', 'o ', 'd ', 's ', 'd ', 'd ', 'h ', 'd ',\n",
       "        'o ', 'd ', 's ', 'o ', 's ', 's ', 'h ', 'd ', 'o ', 'h ', 's ',\n",
       "        'd ', 's ', 's ', 'd ', 'd ', 's ', 's ', 's ', 'd ', 's ', 's ',\n",
       "        's ', 'o ', 'o ', 'd ', 'd ', 'd ', 'd ', 'h ', 's ', 'd ', 's ',\n",
       "        's ', 's ', 's ', 'h ', 's ', 'd ', 's ', 'd ', 'h ', 's ', 'd ',\n",
       "        'd ', 's ', 's ', 'd ', 'd ', 's ', 'o ', 'd ', 'd ', 'd ', 'd ',\n",
       "        'd ', 's ', 'd ', 'd ', 's ', 'd ', 's ', 's ', 's ', 'd ', 's ',\n",
       "        'd ', 'd ', 'd ', 's ', 's ', 's ', 's ', 's ', 'd ', 's ', 'h ',\n",
       "        's ', 's ', 's ', 's ', 'o ', 's ', 'd ', 's ', 's ', 's ', 's ',\n",
       "        's ', 's ', 'd ', 'd ', 'o ', 'd ', 'o ', 'h ', 'd ', 'h ', 'd ',\n",
       "        'h ', 'h ', 'd ', 'h ', 'h ', 'o ', 's ', 's ', 'h ', 's ', 's ',\n",
       "        's ', 's ', 'd ', 's ', 's ', 'h ', 'h ', 'd ', 's ', 'd ', 's ',\n",
       "        'h ', 'h ', 'o ', 's ', 's ', 'h ', 's ', 'h ', 's ', 'h ', 's ',\n",
       "        'o ', 'o ', 'd ', 's ', 's ', 'h ', 'd ', 'h ', 's ', 's ', 'd ',\n",
       "        'h ', 's ', 'd ', 's ', 'o ', 'd ', 'o ', 'o ', 'd ', 's ', 'o ',\n",
       "        'o ', 'd ', 's ', 'h ', 'o ', 'd ', 's ', 'h ', 'd ', 'h ', 'o ',\n",
       "        'd ', 'd ', 'd ', 'd ', 's ', 'o ', 's ', 'd ', 'd ', 'd ', 'h ',\n",
       "        'o ', 'd ', 'd ', 'd ', 's ', 's ', 'h ', 'd ', 'd ', 'o ', 'd ',\n",
       "        's ', 'd ', 's ', 's ', 'h ', 'h ', 's ', 'o ', 'd ', 'h ', 'h ',\n",
       "        'd ', 'o ', 'o ', 'o ', 'h ', 's ', 'h ', 'd ', 'd ', 'h ', 'o ',\n",
       "        'o ', 'o ', 's ', 'h ', 's ', 'd ', 'o ', 's ', 's ', 'd ', 'd ',\n",
       "        'o ', 'h ', 'o ', 'h ', 'd ', 'd ', 's ', 'o ', 'o ', 'h ', 'o ',\n",
       "        'o ', 'd ', 's ', 'o ', 'h ', 'o ', 's ', 'd ', 'o ', 'h ', 'h ',\n",
       "        'h ', 'h ', 'h ', 'd ', 's ', 'h ', 'd ', 'd ', 'd ', 'd ', 'h ',\n",
       "        'o ', 's ', 'h ', 's ', 's ', 's ', 's ', 'o ', 's ', 'h ', 's ',\n",
       "        'h ', 's ', 'h ', 'd ', 's ', 's ', 'o ', 's ', 'h ', 's ', 'o ',\n",
       "        's ', 'd ', 's ', 's ', 'h ', 's ', 'h ', 's ', 'd ', 'd ', 's ',\n",
       "        'h ', 'd ', 's ', 'h ', 's ', 'd ', 'o ', 'd ', 's ', 'o ', 'd ',\n",
       "        's ', 'o ', 'd ', 'o ', 's ', 'd ', 'h ', 's ', 's ', 'o ', 'd ',\n",
       "        's ', 'h ', 'h ', 'h ', 's ', 's ', 'h ', 'd ', 'h ', 'd ', 's ',\n",
       "        's ', 'h ', 's ', 'h ', 's ', 'd ', 'o ', 'h ', 's ', 's ', 's ',\n",
       "        'h ', 'd ', 'd ', 'h ', 'h ', 'h '], dtype='<U2')}"
      ]
     },
     "execution_count": 4,
     "metadata": {},
     "output_type": "execute_result"
    }
   ],
   "source": [
    "data"
   ]
  },
  {
   "cell_type": "code",
   "execution_count": 10,
   "metadata": {},
   "outputs": [],
   "source": [
    "def Example_train_test_split(data, pct, seed):\n",
    "    X_train, X_test, y_train, y_test = train_test_split(data['attrib'],\n",
    "                                                        data['classes'],\n",
    "                                                        test_size=pct,\n",
    "                                                        random_state=seed)\n",
    "    xydata = {}\n",
    "    xydata['X_train'] = X_train\n",
    "    xydata['X_test'] = X_test\n",
    "    xydata['y_train'] = y_train\n",
    "    xydata['y_test'] = y_test\n",
    "    return xydata"
   ]
  },
  {
   "cell_type": "code",
   "execution_count": 292,
   "metadata": {},
   "outputs": [],
   "source": [
    "# simple train/test split\n",
    "pct = .3\n",
    "xydata = Example_train_test_split(data, pct, seed)"
   ]
  },
  {
   "cell_type": "code",
   "execution_count": 293,
   "metadata": {},
   "outputs": [
    {
     "data": {
      "text/plain": [
       "{'X_train': array([[ 59.  ,  32.  ,  56.  , ..., -16.59,  -1.25,  -3.73],\n",
       "        [ 59.  ,  32.  ,  54.  , ..., -19.84,  -2.92,  -5.05],\n",
       "        [ 83.  ,  28.  ,  54.  , ..., -29.34,  -2.  ,  -5.03],\n",
       "        ...,\n",
       "        [ 34.  ,  32.  ,  51.  , ..., -18.26,  -2.42,  -4.67],\n",
       "        [ 49.  ,  25.  ,  50.  , ..., -27.16,  -2.84,  -5.1 ],\n",
       "        [ 71.  ,  65.  ,  85.  , ..., -17.51,  -1.09,  -3.32]]),\n",
       " 'X_test': array([[ 35.  ,  32.  ,  53.  , ..., -12.39,  -1.95,  -3.89],\n",
       "        [ 71.  ,  29.  ,  55.  , ..., -12.95,  -0.73,  -3.06],\n",
       "        [ 61.  ,  29.  ,  54.  , ..., -23.29,  -1.65,  -4.45],\n",
       "        ...,\n",
       "        [ 51.  ,  31.  ,  55.  , ..., -27.83,   0.87,  -1.31],\n",
       "        [ 63.  ,  53.  ,  74.  , ..., -17.92,  -2.13,  -4.52],\n",
       "        [ 50.  ,  36.  ,  60.  , ..., -17.74,  -1.9 ,  -4.48]]),\n",
       " 'y_train': array(['s ', 's ', 'h ', 's ', 's ', 'd ', 's ', 'd ', 'h ', 's ', 's ',\n",
       "        'h ', 'd ', 'o ', 'd ', 'h ', 'o ', 's ', 'o ', 's ', 'd ', 's ',\n",
       "        'o ', 's ', 's ', 'o ', 'h ', 's ', 'h ', 's ', 's ', 's ', 's ',\n",
       "        's ', 'd ', 'o ', 'o ', 'h ', 'o ', 'o ', 'h ', 's ', 'h ', 'h ',\n",
       "        'd ', 'o ', 's ', 's ', 'd ', 'd ', 'd ', 's ', 'h ', 'd ', 's ',\n",
       "        's ', 's ', 's ', 's ', 's ', 's ', 's ', 'h ', 'h ', 'd ', 's ',\n",
       "        'h ', 'd ', 'd ', 'o ', 'h ', 'd ', 's ', 'h ', 's ', 'o ', 'd ',\n",
       "        'h ', 'h ', 'o ', 's ', 's ', 'd ', 'o ', 's ', 'd ', 's ', 'd ',\n",
       "        's ', 'o ', 'o ', 'd ', 's ', 's ', 's ', 'h ', 's ', 'd ', 'o ',\n",
       "        'd ', 'h ', 'h ', 'h ', 's ', 's ', 's ', 's ', 'o ', 'd ', 's ',\n",
       "        'd ', 'h ', 's ', 'h ', 's ', 's ', 's ', 's ', 'd ', 's ', 'd ',\n",
       "        'd ', 'h ', 's ', 'h ', 's ', 's ', 'h ', 'o ', 'd ', 'o ', 's ',\n",
       "        's ', 'd ', 'd ', 'h ', 's ', 'd ', 'h ', 'h ', 'd ', 's ', 's ',\n",
       "        'o ', 'd ', 'd ', 'd ', 'd ', 'd ', 'd ', 'd ', 'd ', 's ', 'd ',\n",
       "        's ', 's ', 'd ', 'o ', 'h ', 'h ', 'd ', 'd ', 's ', 'd ', 'd ',\n",
       "        'd ', 'd ', 'd ', 's ', 'h ', 's ', 'h ', 'd ', 'd ', 'd ', 's ',\n",
       "        's ', 's ', 'h ', 'h ', 'd ', 'o ', 's ', 'h ', 's ', 'o ', 'h ',\n",
       "        'o ', 'o ', 's ', 's ', 'd ', 'd ', 'h ', 's ', 'h ', 'h ', 'o ',\n",
       "        'd ', 's ', 's ', 'd ', 's ', 'o ', 'd ', 's ', 's ', 'o ', 'o ',\n",
       "        'd ', 'd ', 's ', 'h ', 's ', 'd ', 's ', 'h ', 'h ', 'd ', 's ',\n",
       "        'd ', 's ', 'd ', 'o ', 's ', 's ', 'o ', 'd ', 'd ', 's ', 'h ',\n",
       "        'o ', 'h ', 'd ', 'd ', 'h ', 's ', 's ', 'd ', 'd ', 's ', 'd ',\n",
       "        'o ', 'd ', 'd ', 'd ', 's ', 's ', 'd ', 's ', 's ', 'h ', 's ',\n",
       "        's ', 'o ', 'd ', 's ', 's ', 'h ', 'o ', 'h ', 'd ', 'o ', 'd ',\n",
       "        'd ', 's ', 's ', 'd ', 'h ', 'd ', 'o ', 'o ', 's ', 's ', 's ',\n",
       "        'o ', 's ', 'd ', 's ', 'd ', 's ', 'd ', 'd ', 'd ', 'd ', 's ',\n",
       "        's ', 'h ', 'o ', 's ', 'd ', 's ', 'd ', 's ', 's ', 'o ', 'o ',\n",
       "        'h ', 's ', 's ', 'd ', 'd ', 'o ', 'o ', 'o ', 'd ', 's ', 's ',\n",
       "        'h ', 'o ', 's ', 'o ', 'd ', 'd ', 'd ', 'd ', 'o ', 's ', 's ',\n",
       "        'd ', 'd ', 's ', 'h ', 'h ', 's ', 'd ', 's ', 's ', 's ', 's ',\n",
       "        'o ', 's ', 'd ', 'o ', 's ', 'h ', 's ', 'h ', 's ', 's ', 's ',\n",
       "        'o ', 'd ', 's ', 'h ', 'h ', 'd ', 's ', 'h ', 's ', 's ', 'd ',\n",
       "        's ', 's ', 'o ', 'd ', 'o ', 'd ', 's ', 'h ', 'd ', 'd ', 'd ',\n",
       "        'd ', 's ', 'o '], dtype='<U2'),\n",
       " 'y_test': array(['d ', 'h ', 's ', 'd ', 'h ', 'h ', 'd ', 's ', 'o ', 'd ', 'o ',\n",
       "        'h ', 's ', 'h ', 'd ', 's ', 'd ', 'd ', 'o ', 's ', 'o ', 'h ',\n",
       "        'o ', 's ', 's ', 's ', 's ', 'd ', 'h ', 'o ', 's ', 'd ', 's ',\n",
       "        'h ', 's ', 'd ', 's ', 'd ', 's ', 'o ', 's ', 's ', 'd ', 's ',\n",
       "        'o ', 's ', 'o ', 'o ', 'd ', 'd ', 'd ', 's ', 'h ', 's ', 'd ',\n",
       "        'h ', 's ', 's ', 'd ', 'h ', 'o ', 'h ', 'o ', 'd ', 'h ', 's ',\n",
       "        'o ', 'd ', 's ', 'o ', 's ', 's ', 'd ', 'o ', 's ', 'd ', 'd ',\n",
       "        'h ', 'd ', 'd ', 's ', 'h ', 'h ', 's ', 'd ', 'h ', 'h ', 'd ',\n",
       "        'o ', 'd ', 'd ', 'd ', 's ', 'd ', 'o ', 'd ', 'd ', 's ', 'd ',\n",
       "        'd ', 'o ', 'd ', 'o ', 's ', 's ', 'o ', 's ', 's ', 'o ', 'd ',\n",
       "        's ', 'o ', 's ', 's ', 'd ', 'd ', 's ', 'h ', 'd ', 'h ', 'o ',\n",
       "        'o ', 's ', 's ', 'h ', 'd ', 'o ', 'd ', 'd ', 'd ', 'd ', 'd ',\n",
       "        'h ', 's ', 's ', 's ', 's ', 'd ', 's ', 'd ', 's ', 'o ', 's ',\n",
       "        's ', 'h ', 'd ', 's ', 'h ', 's ', 's ', 'd ', 's ', 's ', 'o ',\n",
       "        's ', 'o ', 'd '], dtype='<U2')}"
      ]
     },
     "execution_count": 293,
     "metadata": {},
     "output_type": "execute_result"
    }
   ],
   "source": [
    "xydata"
   ]
  },
  {
   "cell_type": "code",
   "execution_count": 294,
   "metadata": {},
   "outputs": [],
   "source": [
    "# Task 2 - Decision tree baseline"
   ]
  },
  {
   "cell_type": "code",
   "execution_count": 350,
   "metadata": {},
   "outputs": [],
   "source": [
    "def baseline_algorithm(xydata, seed):\n",
    "    clf = DecisionTreeClassifier(random_state=seed)\n",
    "    clf.fit(xydata['X_train'], xydata['y_train'])\n",
    "    score = clf.score(xydata['X_test'], xydata['y_test'])\n",
    "    return score"
   ]
  },
  {
   "cell_type": "code",
   "execution_count": 351,
   "metadata": {},
   "outputs": [],
   "source": [
    "score = baseline_algorithm(xydata, seed)"
   ]
  },
  {
   "cell_type": "code",
   "execution_count": 352,
   "metadata": {},
   "outputs": [
    {
     "data": {
      "text/plain": [
       "0.8343949044585988"
      ]
     },
     "execution_count": 352,
     "metadata": {},
     "output_type": "execute_result"
    }
   ],
   "source": [
    "score"
   ]
  },
  {
   "cell_type": "code",
   "execution_count": 353,
   "metadata": {},
   "outputs": [],
   "source": [
    "# Task 3 - Bagging on decision tree"
   ]
  },
  {
   "cell_type": "code",
   "execution_count": 354,
   "metadata": {},
   "outputs": [],
   "source": [
    "clf = BaggingClassifier(DecisionTreeClassifier(random_state=seed))\n",
    "clf.fit(xydata['X_train'], xydata['y_train'])\n",
    "score = clf.score(xydata['X_test'], xydata['y_test'])"
   ]
  },
  {
   "cell_type": "code",
   "execution_count": 355,
   "metadata": {},
   "outputs": [
    {
     "data": {
      "text/plain": [
       "0.8662420382165605"
      ]
     },
     "execution_count": 355,
     "metadata": {},
     "output_type": "execute_result"
    }
   ],
   "source": [
    "score"
   ]
  },
  {
   "cell_type": "code",
   "execution_count": 356,
   "metadata": {},
   "outputs": [],
   "source": [
    "def Example_bagging(xydata, seed):\n",
    "    clf = BaggingClassifier(DecisionTreeClassifier(random_state=seed))\n",
    "    clf.fit(xydata['X_train'], xydata['y_train'])\n",
    "    score = clf.score(xydata['X_test'], xydata['y_test'])\n",
    "\n",
    "    # determine feature importance\n",
    "    feature_importances = np.mean([tree.feature_importances_ for tree in clf.estimators_], axis=0)\n",
    "\n",
    "    result = {}\n",
    "    result['score'] = score\n",
    "    result['importance'] = feature_importances\n",
    "    return result"
   ]
  },
  {
   "cell_type": "code",
   "execution_count": 357,
   "metadata": {},
   "outputs": [
    {
     "name": "stdout",
     "output_type": "stream",
     "text": [
      "\n",
      "-----Bagging Classification-----\n",
      "SCORE:  0.8789808917197452\n",
      "IMPORTANCE:  [0.07674654 0.29259676 0.01293795 0.1517982  0.01533242 0.02601688\n",
      " 0.00956211 0.02187251 0.00978998 0.04527352 0.0410007  0.00732316\n",
      " 0.03226675 0.0093362  0.00654155 0.01907138 0.04543914 0.12298161\n",
      " 0.00800181 0.00748453 0.00427002 0.00734864 0.00658821 0.00505153\n",
      " 0.00546859 0.00578714 0.00411217]\n"
     ]
    }
   ],
   "source": [
    "result = Example_bagging(xydata, seed)\n",
    "print('\\n-----Bagging Classification-----')\n",
    "print('SCORE: ', result['score'])\n",
    "print('IMPORTANCE: ', result['importance'])"
   ]
  },
  {
   "cell_type": "code",
   "execution_count": 358,
   "metadata": {},
   "outputs": [],
   "source": [
    "# Task 4 - Cross-validated bagging"
   ]
  },
  {
   "cell_type": "code",
   "execution_count": 359,
   "metadata": {},
   "outputs": [],
   "source": [
    "# Cross Validation on Bagging\n",
    "def Example_crossval_bagging(xydata, seed, cv=5):\n",
    "    clf = BaggingClassifier(DecisionTreeClassifier(random_state=seed))\n",
    "    clf.fit(xydata['X_train'], xydata['y_train'])\n",
    "    scores = cross_val_score(clf, xydata['X_test'], xydata['y_test'], cv=cv)\n",
    "    return scores"
   ]
  },
  {
   "cell_type": "code",
   "execution_count": 360,
   "metadata": {},
   "outputs": [],
   "source": [
    "scores = Example_crossval_bagging(xydata, seed)"
   ]
  },
  {
   "cell_type": "code",
   "execution_count": 361,
   "metadata": {},
   "outputs": [
    {
     "data": {
      "text/plain": [
       "array([0.78125   , 0.8125    , 0.84375   , 0.90322581, 0.86666667])"
      ]
     },
     "execution_count": 361,
     "metadata": {},
     "output_type": "execute_result"
    }
   ],
   "source": [
    "scores"
   ]
  },
  {
   "cell_type": "code",
   "execution_count": 362,
   "metadata": {},
   "outputs": [
    {
     "data": {
      "text/plain": [
       "0.8414784946236559"
      ]
     },
     "execution_count": 362,
     "metadata": {},
     "output_type": "execute_result"
    }
   ],
   "source": [
    "np.mean(scores)"
   ]
  },
  {
   "cell_type": "code",
   "execution_count": 363,
   "metadata": {},
   "outputs": [],
   "source": [
    "# Task 5 - Adaboost"
   ]
  },
  {
   "cell_type": "code",
   "execution_count": 364,
   "metadata": {},
   "outputs": [],
   "source": [
    "# Boosting using Adaboost\n",
    "def Example_adaboost(xydata, seed, n_est):\n",
    "    base_dt = DecisionTreeClassifier(random_state=seed)\n",
    "    clf = AdaBoostClassifier(\n",
    "        base_estimator=base_dt,\n",
    "        n_estimators=n_est,\n",
    "        algorithm=\"SAMME\")\n",
    "    clf.fit(xydata['X_train'], xydata['y_train'])\n",
    "    y_pred = clf.predict(xydata['X_test'])\n",
    "    score = accuracy_score(y_pred, xydata['y_test'])\n",
    "    return score"
   ]
  },
  {
   "cell_type": "code",
   "execution_count": 367,
   "metadata": {},
   "outputs": [],
   "source": [
    "score = Example_adaboost(xydata, seed, 100)"
   ]
  },
  {
   "cell_type": "code",
   "execution_count": 368,
   "metadata": {},
   "outputs": [
    {
     "data": {
      "text/plain": [
       "0.8407643312101911"
      ]
     },
     "execution_count": 368,
     "metadata": {},
     "output_type": "execute_result"
    }
   ],
   "source": [
    "score"
   ]
  }
 ],
 "metadata": {
  "kernelspec": {
   "display_name": "Python 3",
   "language": "python",
   "name": "python3"
  },
  "language_info": {
   "codemirror_mode": {
    "name": "ipython",
    "version": 3
   },
   "file_extension": ".py",
   "mimetype": "text/x-python",
   "name": "python",
   "nbconvert_exporter": "python",
   "pygments_lexer": "ipython3",
   "version": "3.7.1"
  }
 },
 "nbformat": 4,
 "nbformat_minor": 2
}
